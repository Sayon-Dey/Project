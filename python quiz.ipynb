{
 "cells": [
  {
   "cell_type": "code",
   "execution_count": 1,
   "id": "6056428b",
   "metadata": {},
   "outputs": [
    {
     "name": "stdout",
     "output_type": "stream",
     "text": [
      "------------------------\n",
      "Welcome to computer quiz\n",
      "------------------------\n",
      "Do you want to play a game? (yes/no) y\n",
      "Invalid input. Please enter either \"yes\" or \"no\".\n"
     ]
    },
    {
     "ename": "SystemExit",
     "evalue": "",
     "output_type": "error",
     "traceback": [
      "An exception has occurred, use %tb to see the full traceback.\n",
      "\u001b[1;31mSystemExit\u001b[0m\n"
     ]
    }
   ],
   "source": [
    "# Python Quiz\n",
    "import sys\n",
    "import warnings\n",
    "warnings.filterwarnings('ignore')\n",
    "print('------------------------')\n",
    "print('Welcome to computer quiz')\n",
    "print('------------------------')\n",
    "playing=input('Do you want to play a game? (yes/no) ')\n",
    "if playing.lower()=='yes':\n",
    "    print('Okay! Let\\'s Play')\n",
    "elif playing.lower()=='no':\n",
    "    print('Thank you for playing')\n",
    "    sys.exit()\n",
    "else:\n",
    "    print('Invalid input. Please enter either \"yes\" or \"no\".')\n",
    "    sys.exit()\n",
    "\n",
    "class Quiz:\n",
    "    def __init__(self):\n",
    "        self.score = 0\n",
    "\n",
    "    def ask_question(self, question, answer, correct_answer):\n",
    "        print(question)\n",
    "        for choice in answer:\n",
    "            print(choice)\n",
    "        user_input = input(\"Answer: \")\n",
    "        if user_input == correct_answer:\n",
    "            print(\"Correct! Congratulations, you are going in the correct way.\")\n",
    "            self.score += 1\n",
    "        else:\n",
    "            print(\"Incorrect! Oops, better luck next time.\")\n",
    "        print(\"\\n\")\n",
    "\n",
    "    def start_the_quiz(self):\n",
    "        print(\"-----------------------------------\")\n",
    "        print(\"           Quiz Started             \")\n",
    "        print(\"-----------------------------------\")\n",
    "        print(\"\\n\")\n",
    "        self.ask_question(\n",
    "            \"What is the correct syntax to output 'Hello World' in Python?\",\n",
    "            [\"a. print('Hello World')\", \"b. p('Hello World')\", \"c. echo('Hello World')\"],\n",
    "            \"a\"\n",
    "        )\n",
    "        self.ask_question(\n",
    "            \"How do you insert COMMENTS in Python code?\",\n",
    "            [\"a. //\", \"b. #\", \"c. *\", \"d. $\"],\n",
    "            \"b\"\n",
    "        )\n",
    "        self.ask_question(\n",
    "            \"Which one is NOT a legal variable name?\",\n",
    "            [\"a. Myvar\", \"b. _myvar\", \"c. my-var\", \"d. my_var\"],\n",
    "            \"c\"\n",
    "        )\n",
    "\n",
    "        self.ask_question(\n",
    "            \"What is the correct file extension for Python files?\",\n",
    "            [\"a. (.py)\", \"b. (.pyt)\", \"c. (.pt)\", \"d. (.pyth)\"],\n",
    "            \"a\"\n",
    "        )\n",
    "\n",
    "        self.ask_question(\n",
    "            \"What is the correct way to create a function in Python?\",\n",
    "            [\"a. def myFunction()\", \"b. function myFunction()\", \"c. create myFunction()\"],\n",
    "            \"a\"\n",
    "        ) \n",
    "        self.ask_question(\n",
    "            \"Python function always returns a value\",\n",
    "             [\"a. True\", \"b. False\"],\n",
    "            \"a\"\n",
    "        )\n",
    "        self.ask_question(\n",
    "            \"The union() method returns a new set with all items from both sets by removing duplicates\",\n",
    "            [\"a. True\", \"b. False\"],\n",
    "            \"a\"\n",
    "        )\n",
    "        self.ask_question(\n",
    "            \"The isdisjoint() method returns True if none of the items are present in both sets, otherwise, it returns False.\",\n",
    "            [\"a. True\", \"b. False\"],\n",
    "            \"a\"\n",
    "        )\n",
    "\n",
    "    def display_result(self, name):\n",
    "        print(\"-----------------------------------\")\n",
    "        print(\"            Result                 \")\n",
    "        print(\"-----------------------------------\")\n",
    "        print(name, \"you got\", self.score, \"out of 8 questions correct!\")\n",
    "        print(\"You got\", (float(self.score) / 8) * 100, \"%.\\n\")\n",
    " \n",
    "\n",
    "quiz = Quiz()\n",
    "\n",
    "print('-------------------------------')\n",
    "\n",
    "while True:\n",
    "    print(\"1. Start Quiz\")\n",
    "    print(\"2. Quit\")\n",
    "    choice = input(\"Enter your choice: \")\n",
    "    if choice == \"1\":\n",
    "        name = input('Enter your name: ')\n",
    "        print(\"\\n  Let's begin the quiz, \", name, \"!\")\n",
    "        print(\"Good luck!\\n\")\n",
    "        quiz.start_the_quiz()\n",
    "        quiz.display_result(name)\n",
    "    elif choice == \"2\":\n",
    "        print(\"Thank you for playing !\")\n",
    "        break\n",
    "    else:\n",
    "        print(\"Invalid choice\") \n"
   ]
  },
  {
   "cell_type": "code",
   "execution_count": 6,
   "id": "85974de6",
   "metadata": {},
   "outputs": [
    {
     "name": "stdout",
     "output_type": "stream",
     "text": [
      "Hello \n",
      " all\n"
     ]
    }
   ],
   "source": [
    "print('Hello \\n all')"
   ]
  },
  {
   "cell_type": "code",
   "execution_count": null,
   "id": "fac7ff49",
   "metadata": {},
   "outputs": [],
   "source": []
  }
 ],
 "metadata": {
  "kernelspec": {
   "display_name": "Python 3 (ipykernel)",
   "language": "python",
   "name": "python3"
  },
  "language_info": {
   "codemirror_mode": {
    "name": "ipython",
    "version": 3
   },
   "file_extension": ".py",
   "mimetype": "text/x-python",
   "name": "python",
   "nbconvert_exporter": "python",
   "pygments_lexer": "ipython3",
   "version": "3.9.13"
  }
 },
 "nbformat": 4,
 "nbformat_minor": 5
}
