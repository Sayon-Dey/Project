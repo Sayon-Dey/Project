{
 "cells": [
  {
   "cell_type": "code",
   "execution_count": 2,
   "id": "d4b54dbf",
   "metadata": {},
   "outputs": [
    {
     "name": "stdout",
     "output_type": "stream",
     "text": [
      "Enter the number578\n",
      "Enter the number695\n",
      "Rnter the opr...(+,-,/,*)*\n",
      "401710\n"
     ]
    }
   ],
   "source": [
    "num1=int(input('Enter the number'))\n",
    "num2=int(input('Enter the number'))\n",
    "cal_c=input('Rnter the opr...(+,-,/,*)')\n",
    "if cal_c=='+':\n",
    "    print(num1+num2)\n",
    "elif cal_c=='-':\n",
    "    print(num1-num2)\n",
    "elif cal_c=='/':\n",
    "    print(num1/num2)\n",
    "elif cal_c=='*':\n",
    "    print(num1*num2)\n",
    "else:\n",
    "    print('Invalid opr')\n",
    "    "
   ]
  },
  {
   "cell_type": "code",
   "execution_count": null,
   "id": "23015510",
   "metadata": {},
   "outputs": [],
   "source": []
  }
 ],
 "metadata": {
  "kernelspec": {
   "display_name": "Python 3 (ipykernel)",
   "language": "python",
   "name": "python3"
  },
  "language_info": {
   "codemirror_mode": {
    "name": "ipython",
    "version": 3
   },
   "file_extension": ".py",
   "mimetype": "text/x-python",
   "name": "python",
   "nbconvert_exporter": "python",
   "pygments_lexer": "ipython3",
   "version": "3.9.13"
  }
 },
 "nbformat": 4,
 "nbformat_minor": 5
}
